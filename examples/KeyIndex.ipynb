{
 "cells": [
  {
   "cell_type": "markdown",
   "metadata": {},
   "source": [
    "# Key Index"
   ]
  },
  {
   "cell_type": "markdown",
   "metadata": {},
   "source": [
    "## Мониторинг ключевых индикаторов финансового и фондового рынков"
   ]
  },
  {
   "cell_type": "markdown",
   "metadata": {},
   "source": [
    "Есть вопросы? Дмитрий Ходыкин: dmitriy_hodikin (skype)"
   ]
  },
  {
   "cell_type": "markdown",
   "metadata": {},
   "source": [
    "## Пространство имен"
   ]
  },
  {
   "cell_type": "code",
   "execution_count": 1,
   "metadata": {},
   "outputs": [],
   "source": [
    "# Импорты\n",
    "\n",
    "# Базы данных\n",
    "import psycopg2 as psql\n",
    "\n",
    "## Дата-время\n",
    "from datetime import datetime\n",
    "from datetime import timedelta\n",
    "\n",
    "## Информация о рынках\n",
    "import yahoo_fin.stock_info as si\n",
    "from yahoo_fin.stock_info import get_data\n",
    "\n",
    "## Регистрационные данные\n",
    "from auth import auth\n",
    "\n",
    "## Таблицы и вычисления\n",
    "import pandas as pd\n",
    "import numpy as np"
   ]
  },
  {
   "cell_type": "markdown",
   "metadata": {},
   "source": [
    "## Загрузка данных за период"
   ]
  },
  {
   "cell_type": "markdown",
   "metadata": {},
   "source": [
    "Отслеживаемые индикаторы:\n",
    "- `S&P 500` — фондовый индекс, в корзину которого включено 505 избранных торгуемых на фондовых биржах США публичных компаний, имеющих наибольшую капитализацию. Список принадлежит компании Standard & Poor’s и ею же составляется.\n",
    "\n",
    "- `Индекс ММВБ` В Индекс Московской биржи входят 42 компании, акции которых торгуются на российской площадке. Индекс Мосбиржи на 16,23% состоит из бумаг «Лукойла», на 14,03% из Сбербанка, на 12,2% из «Газпрома» и так далее. Точная информация о весе каждой из компаний регулярно публикуется на сайте moex.com.\n",
    "\n",
    "- `NASDAQ` (сокр. от англ. National Association of Securities Dealers Automated Quotation, читается как «Насдак»  Служба автоматизированных котировок Национальной ассоциации дилеров по ценным бумагам) — американская биржа, специализирующаяся на акциях высокотехнологичных компаний.\n",
    "\n",
    "- `Russell 2000` - это индекс, измеряющий динамику около 2000 компаний малой капитализации. В индекс входят компании финансового сектора, сферы здравоохранения, потребительских товаров, технологические компании. Russell 2000 является хорошим показателем ситуации на американском рынке, т.к. состоит из средних и маленьких компаний США, которые более волатильны и имеют больший потенциал роста, чем крупные по капитализации компании.\n",
    "\n",
    "- `Казначейские облигации США` на 30/10/5 лет, а также на 13 недель. Превышение доходности краткосрочных облигаций над долгосрочными (10-30 лет) говорит об инверсии доходности и надвигающейся рецессии, т.к. текущие риски превышают будущие риски инвесторов. Все 8-мь рецессий в США совпадали с проявлением эффекта инверсии доходности.\n",
    "\n",
    "- `Стоимость товаров` таких как: нефть, природный газ, золото."
   ]
  },
  {
   "cell_type": "code",
   "execution_count": 2,
   "metadata": {},
   "outputs": [],
   "source": [
    "# Тикеры ключевых индикаторов\n",
    "\n",
    "tickers = [\n",
    "    'RUB=X',     # Курс доллара к рублю\n",
    "    'EURRUB=X',  # Курс евро к рублю\n",
    "    'EURUSD=X',  # Курс евро к доллару\n",
    "    'CNY=X',     # Курс доллара к юаню\n",
    "    \n",
    "    '^GSPC',     # Индекс S&P 500\n",
    "    'IMOEX.ME',  # Индекс ММВБ\n",
    "    '^IXIC',     # Индекс NASDAQ\n",
    "    '^RUT',      # Индекс Russell 2000\n",
    "    \n",
    "    '^TYX',      # 30-ти летние казначейсие облигации\n",
    "    '^TNX',      # 10-ти летние казначейсие облигации\n",
    "    '^FVX',      # 5-ти летние казначейсие облигации\n",
    "    '^IRX',      # 13-ти недельные казначейские облигации\n",
    "    \n",
    "    'CL=F',      # Сырая нефть (NY Товарная биржа)\n",
    "    'NG=F',      # Природный газ (NY Товарная биржа)\n",
    "    'GC=F',      # Золото (COMEX Delayed Price)\n",
    "    'SI=F'       # Серебро\n",
    "]"
   ]
  },
  {
   "cell_type": "code",
   "execution_count": 3,
   "metadata": {},
   "outputs": [],
   "source": [
    "def create_dataset(tickers_list, interval,\n",
    "                   start_date, end_date):\n",
    "    \"\"\"Возвращает датасет по списку тикеров из\n",
    "    [ticker_list] с интервалом значений временного ряда:\n",
    "    [1d - день], [1wk - неделя], [1mo - месяц]\n",
    "    между [start] и [end] date\"\"\"\n",
    "    \n",
    "    data = pd.DataFrame()\n",
    "    i = 0\n",
    "    \n",
    "    while i < len(tickers_list):\n",
    "        try:\n",
    "            r = get_data(\n",
    "                tickers_list[i],\n",
    "                start_date = start_date,\n",
    "                end_date = end_date,\n",
    "                index_as_date = False,\n",
    "                interval = interval\n",
    "            )\n",
    "            \n",
    "            data = data.append(r)\n",
    "            i = i + 1\n",
    "    \n",
    "        except BaseException:\n",
    "            i = i + 1  # Переход к следующему тикеру\n",
    "            pass\n",
    "\n",
    "    return data"
   ]
  },
  {
   "cell_type": "code",
   "execution_count": 4,
   "metadata": {},
   "outputs": [],
   "source": [
    "def get_max_dt():\n",
    "    \"\"\"Возвращает максимальную дату, \n",
    "    содержащуюся в базе данных\"\"\"\n",
    "    \n",
    "    # Авторизация в базе данных\n",
    "    conn = psql.connect(\n",
    "        dbname=auth.psql_db,\n",
    "        user=auth.psql_user,\n",
    "        password=auth.psql_passwd,\n",
    "        host='localhost'\n",
    "    )\n",
    "\n",
    "    cursor = conn.cursor()\n",
    "    cursor.execute(\n",
    "        \"\"\"\n",
    "        SELECT MAX (dt)\n",
    "        FROM exrates;\n",
    "        \"\"\"\n",
    "    )\n",
    "    # Выполнение запроса\n",
    "    conn.commit()\n",
    "    # Вывод данных запроса\n",
    "    max_dt = cursor.fetchall()\n",
    "    max_dt, = max_dt[0]\n",
    "\n",
    "    cursor.close()\n",
    "    conn.close()\n",
    "    \n",
    "    return max_dt"
   ]
  },
  {
   "cell_type": "code",
   "execution_count": 5,
   "metadata": {},
   "outputs": [
    {
     "name": "stdout",
     "output_type": "stream",
     "text": [
      "Начальная дата: 2020-12-29 Конечная дата: 2020-12-29\n"
     ]
    }
   ],
   "source": [
    "# Определение отчетного периода\n",
    "\n",
    "# Период в базе данных\n",
    "max_dt = get_max_dt()\n",
    "start_date = max_dt + timedelta(days=1)\n",
    "start_date = start_date.strftime(\"%Y-%m-%d\")\n",
    "# Текущий период\n",
    "now = datetime.now()\n",
    "end_date = now.strftime(\"%Y-%m-%d\")\n",
    "\n",
    "print('Начальная дата:', start_date,\n",
    "     'Конечная дата:', end_date)"
   ]
  },
  {
   "cell_type": "code",
   "execution_count": 6,
   "metadata": {},
   "outputs": [
    {
     "name": "stdout",
     "output_type": "stream",
     "text": [
      "CPU times: user 5 µs, sys: 1 µs, total: 6 µs\n",
      "Wall time: 11.2 µs\n"
     ]
    }
   ],
   "source": [
    "# Сформируем датасет по тикерам\n",
    "\n",
    "data = create_dataset(\n",
    "    tickers,\n",
    "    '1d',\n",
    "    start_date,\n",
    "    end_date\n",
    ")\n",
    "\n",
    "%time"
   ]
  },
  {
   "cell_type": "code",
   "execution_count": 7,
   "metadata": {},
   "outputs": [
    {
     "name": "stdout",
     "output_type": "stream",
     "text": [
      "<class 'pandas.core.frame.DataFrame'>\n",
      "Int64Index: 7 entries, 0 to 0\n",
      "Data columns (total 8 columns):\n",
      " #   Column    Non-Null Count  Dtype         \n",
      "---  ------    --------------  -----         \n",
      " 0   date      7 non-null      datetime64[ns]\n",
      " 1   open      7 non-null      float64       \n",
      " 2   high      7 non-null      float64       \n",
      " 3   low       7 non-null      float64       \n",
      " 4   close     7 non-null      float64       \n",
      " 5   adjclose  7 non-null      float64       \n",
      " 6   volume    7 non-null      int64         \n",
      " 7   ticker    7 non-null      object        \n",
      "dtypes: datetime64[ns](1), float64(5), int64(1), object(1)\n",
      "memory usage: 504.0+ bytes\n"
     ]
    }
   ],
   "source": [
    "data.info()"
   ]
  },
  {
   "cell_type": "code",
   "execution_count": 8,
   "metadata": {},
   "outputs": [
    {
     "data": {
      "text/html": [
       "<div>\n",
       "<style scoped>\n",
       "    .dataframe tbody tr th:only-of-type {\n",
       "        vertical-align: middle;\n",
       "    }\n",
       "\n",
       "    .dataframe tbody tr th {\n",
       "        vertical-align: top;\n",
       "    }\n",
       "\n",
       "    .dataframe thead th {\n",
       "        text-align: right;\n",
       "    }\n",
       "</style>\n",
       "<table border=\"1\" class=\"dataframe\">\n",
       "  <thead>\n",
       "    <tr style=\"text-align: right;\">\n",
       "      <th></th>\n",
       "      <th>date</th>\n",
       "      <th>open</th>\n",
       "      <th>high</th>\n",
       "      <th>low</th>\n",
       "      <th>close</th>\n",
       "      <th>adjclose</th>\n",
       "      <th>volume</th>\n",
       "      <th>ticker</th>\n",
       "    </tr>\n",
       "  </thead>\n",
       "  <tbody>\n",
       "    <tr>\n",
       "      <th>0</th>\n",
       "      <td>2020-12-29</td>\n",
       "      <td>74.127800</td>\n",
       "      <td>74.351097</td>\n",
       "      <td>73.339996</td>\n",
       "      <td>73.559998</td>\n",
       "      <td>73.559998</td>\n",
       "      <td>0</td>\n",
       "      <td>RUB=X</td>\n",
       "    </tr>\n",
       "    <tr>\n",
       "      <th>0</th>\n",
       "      <td>2020-12-29</td>\n",
       "      <td>90.507301</td>\n",
       "      <td>90.817001</td>\n",
       "      <td>89.829201</td>\n",
       "      <td>90.164299</td>\n",
       "      <td>90.164299</td>\n",
       "      <td>0</td>\n",
       "      <td>EURRUB=X</td>\n",
       "    </tr>\n",
       "    <tr>\n",
       "      <th>0</th>\n",
       "      <td>2020-12-29</td>\n",
       "      <td>1.221598</td>\n",
       "      <td>1.226843</td>\n",
       "      <td>1.221300</td>\n",
       "      <td>1.226091</td>\n",
       "      <td>1.226091</td>\n",
       "      <td>0</td>\n",
       "      <td>EURUSD=X</td>\n",
       "    </tr>\n",
       "    <tr>\n",
       "      <th>0</th>\n",
       "      <td>2020-12-29</td>\n",
       "      <td>6.537000</td>\n",
       "      <td>6.537000</td>\n",
       "      <td>6.525100</td>\n",
       "      <td>6.529000</td>\n",
       "      <td>6.529000</td>\n",
       "      <td>0</td>\n",
       "      <td>CNY=X</td>\n",
       "    </tr>\n",
       "    <tr>\n",
       "      <th>0</th>\n",
       "      <td>2020-12-28</td>\n",
       "      <td>3723.030029</td>\n",
       "      <td>3740.510010</td>\n",
       "      <td>3723.030029</td>\n",
       "      <td>3735.360107</td>\n",
       "      <td>3735.360107</td>\n",
       "      <td>1651103623</td>\n",
       "      <td>^GSPC</td>\n",
       "    </tr>\n",
       "  </tbody>\n",
       "</table>\n",
       "</div>"
      ],
      "text/plain": [
       "        date         open         high          low        close     adjclose  \\\n",
       "0 2020-12-29    74.127800    74.351097    73.339996    73.559998    73.559998   \n",
       "0 2020-12-29    90.507301    90.817001    89.829201    90.164299    90.164299   \n",
       "0 2020-12-29     1.221598     1.226843     1.221300     1.226091     1.226091   \n",
       "0 2020-12-29     6.537000     6.537000     6.525100     6.529000     6.529000   \n",
       "0 2020-12-28  3723.030029  3740.510010  3723.030029  3735.360107  3735.360107   \n",
       "\n",
       "       volume    ticker  \n",
       "0           0     RUB=X  \n",
       "0           0  EURRUB=X  \n",
       "0           0  EURUSD=X  \n",
       "0           0     CNY=X  \n",
       "0  1651103623     ^GSPC  "
      ]
     },
     "execution_count": 8,
     "metadata": {},
     "output_type": "execute_result"
    }
   ],
   "source": [
    "# Удалим пустые строки\n",
    "\n",
    "data = data[data['adjclose'] > 0]\n",
    "data.head()"
   ]
  },
  {
   "cell_type": "code",
   "execution_count": 9,
   "metadata": {},
   "outputs": [],
   "source": [
    "# Работа с БД\n",
    "\n",
    "def insert_into_db(data):\n",
    "    \"\"\"Вставляет переданные в функцию данные в БД\"\"\"\n",
    "\n",
    "    # Авторизация в базе данных\n",
    "    conn = psql.connect(\n",
    "        dbname=auth.psql_db,\n",
    "        user=auth.psql_user,\n",
    "        password=auth.psql_passwd,\n",
    "        host='localhost'\n",
    "    )\n",
    "\n",
    "    cursor = conn.cursor()\n",
    "    print('Создано подключение к БД:', auth.psql_db)\n",
    "    print('Выполнение запроса...')    \n",
    "\n",
    "    for index, row in data.iterrows():\n",
    "        values = (\n",
    "            f\"{row['date']}\", \n",
    "            row['open'], \n",
    "            row['high'],\n",
    "            row['low'], \n",
    "            row['close'], \n",
    "            row['adjclose'], \n",
    "            row['volume'], \n",
    "            row['ticker']\n",
    "        )\n",
    "\n",
    "        cursor.execute(\n",
    "            \"\"\"\n",
    "            INSERT INTO \n",
    "            exrates (dt, opn, hi, low, cls, adj, vol, ticker) \n",
    "            VALUES (%s, %s, %s, %s, %s, %s, %s, %s)\n",
    "            \"\"\", values\n",
    "        )\n",
    "\n",
    "    conn.commit()\n",
    "\n",
    "    cursor.close()\n",
    "    print('Подключение к БД завершено')\n",
    "\n",
    "    conn.close()\n",
    "    print('Соединение с БД закрыто')"
   ]
  },
  {
   "cell_type": "code",
   "execution_count": 10,
   "metadata": {},
   "outputs": [
    {
     "name": "stdout",
     "output_type": "stream",
     "text": [
      "Создано подключение к БД: etl\n",
      "Выполнение запроса...\n",
      "Подключение к БД завершено\n",
      "Соединение с БД закрыто\n",
      "CPU times: user 6 µs, sys: 2 µs, total: 8 µs\n",
      "Wall time: 14.5 µs\n"
     ]
    }
   ],
   "source": [
    "# Сохранение полученных данных в БД\n",
    "\n",
    "insert_into_db(data)\n",
    "%time"
   ]
  }
 ],
 "metadata": {
  "kernelspec": {
   "display_name": "Python My Env",
   "language": "python",
   "name": "python-my-env"
  },
  "language_info": {
   "codemirror_mode": {
    "name": "ipython",
    "version": 3
   },
   "file_extension": ".py",
   "mimetype": "text/x-python",
   "name": "python",
   "nbconvert_exporter": "python",
   "pygments_lexer": "ipython3",
   "version": "3.8.5"
  }
 },
 "nbformat": 4,
 "nbformat_minor": 4
}
